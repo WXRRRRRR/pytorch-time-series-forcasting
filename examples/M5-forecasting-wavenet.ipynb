{
 "cells": [
  {
   "cell_type": "code",
   "execution_count": 1,
   "metadata": {},
   "outputs": [],
   "source": [
    "%load_ext autoreload\n",
    "%autoreload 2"
   ]
  },
  {
   "cell_type": "code",
   "execution_count": 2,
   "metadata": {},
   "outputs": [],
   "source": [
    "import sys\n",
    "sys.path.append('../')\n",
    "sys.path.append('../data/')"
   ]
  },
  {
   "cell_type": "markdown",
   "metadata": {},
   "source": [
    "# M5 Forecasting\n",
    "This competition (https://www.kaggle.com/c/m5-forecasting-accuracy/overview) aims to forecast Walmart sale forecast daily sales for the next 28 days. The data, covers stores in three US States (California, Texas, and Wisconsin) and includes item level, department, product categories, and store details. In addition, it has explanatory variables such as price, promotions, day of the week, and special events.\n",
    "\n",
    "This notebook uses M5 data to demonstrate the time series models `wavenet`"
   ]
  },
  {
   "cell_type": "markdown",
   "metadata": {},
   "source": [
    "## Create data loader"
   ]
  },
  {
   "cell_type": "markdown",
   "metadata": {},
   "source": [
    "Train and Validation Series Partioning. We need to create 4 sub-segments of the data as the figure below:\n",
    "\n",
    "1. Train encoding period\n",
    "2. Train decoding period (train targets, 28 days)\n",
    "3. Validation encoding period\n",
    "4. Validation decoding period (validation targets, 28 days)"
   ]
  },
  {
   "cell_type": "markdown",
   "metadata": {},
   "source": [
    "<img src=\"fig/web-traffic-train-validation-split.png\" width=\"700\" align=\"left\">"
   ]
  },
  {
   "cell_type": "markdown",
   "metadata": {},
   "source": [
    "### Features\n",
    "We have 4 kinds of features\n",
    "- time series: \n",
    "    - shape: [nr_ts, len_encode, 1] and [nr_ts, len_decode, 1]\n",
    "    - current only support 1 dimension. For multivariance time series forecasting, the code in seq2seq.py need to change.\n",
    "- numerical features: \n",
    "    - shape: [nr_ts, len_encode, num_dim] and [nr_ts, len_decode, num_dim]\n",
    "    - numerical exogenous variable, for example, the daily temprature. In M5 data, we use historical sales (1 year and 3 months ago)\n",
    "- categorical features\n",
    "    - shape: [nr_ts, len_encode, cat_dim] and [nr_ts, len_decode, cat_dim]\n",
    "    - categorical exogenous variable. In M5 data, they are week number, event name, etc\n",
    "- fixed feature\n",
    "    - shape: [nr_ts, fixed_feat_dim]\n",
    "    - fixed features value does not change for the given time series, for example, the store id and state id"
   ]
  },
  {
   "cell_type": "code",
   "execution_count": 3,
   "metadata": {},
   "outputs": [
    {
     "name": "stderr",
     "output_type": "stream",
     "text": [
      "INFO:root:Reading files...\n"
     ]
    },
    {
     "name": "stdout",
     "output_type": "stream",
     "text": [
      "Calendar shape: (1969, 14)\n",
      "Sell prices shape: (6841121, 4)\n",
      "Sales train shape: (30490, 1919)\n",
      "Submission shape: (60980, 29)\n",
      "ts_encode_norm shape torch.Size([30490, 365, 1])\n",
      " ts_decode_norm shape torch.Size([30490, 28, 1])\n",
      " ts_decode_true shape torch.Size([30490, 28, 1])\n",
      " ts_xdaysago_encode shape torch.Size([30490, 365, 2])\n",
      " ts_xdaysago_decode shape torch.Size([30490, 28, 2])\n",
      " cat_feat_encode shape torch.Size([30490, 365, 10])\n",
      " cat_feat_decode shape torch.Size([30490, 28, 10])\n",
      " fixed_feat_encode shape torch.Size([30490, 5])\n",
      " mean_x shape torch.Size([30490, 1, 1])\n",
      " std_x shape torch.Size([30490, 1, 1])\n",
      "\n",
      "ts_encode_norm shape torch.Size([30490, 365, 1])\n",
      " ts_decode_norm shape torch.Size([30490, 28, 1])\n",
      " ts_decode_true shape torch.Size([30490, 28, 1])\n",
      " ts_xdaysago_encode shape torch.Size([30490, 365, 2])\n",
      " ts_xdaysago_decode shape torch.Size([30490, 28, 2])\n",
      " cat_feat_encode shape torch.Size([30490, 365, 10])\n",
      " cat_feat_decode shape torch.Size([30490, 28, 10])\n",
      " fixed_feat_encode shape torch.Size([30490, 5])\n",
      " mean_x shape torch.Size([30490, 1, 1])\n",
      " std_x shape torch.Size([30490, 1, 1])\n",
      "\n"
     ]
    }
   ],
   "source": [
    "from m5_dataloader import *\n",
    "import torch\n",
    "from torch.utils.data import DataLoader\n",
    "\n",
    "input_dir = '../data/M5'\n",
    "\n",
    "train_encode_decode_boundray = ('2015-03-01', '2016-02-28', '2016-02-29', '2016-03-27')\n",
    "val_encode_decode_boundray = ('2015-03-29', '2016-03-27', '2016-03-28', '2016-04-24')\n",
    "\n",
    "categorical_feat_l = ['week_number',\n",
    "                    'wday',\n",
    "                    'month',\n",
    "                    'event_name_1',\n",
    "                    'event_type_1',\n",
    "                    'event_name_2',\n",
    "                    'event_type_2',\n",
    "                    'snap_CA',\n",
    "                    'snap_TX',\n",
    "                    'snap_WI']\n",
    "\n",
    "\n",
    "fixed_feat_l=['item_id',\n",
    "            'dept_id',\n",
    "            'cat_id',\n",
    "            'store_id',\n",
    "            'state_id']\n",
    "\n",
    "xdaysago = [365, 91]\n",
    "\n",
    "device = torch.device(\"cuda\" if torch.cuda.is_available() else \"cpu\")\n",
    "\n",
    "calendar, sell_prices, sales_train, submission = read_data(input_dir)\n",
    "sales_train = process_sale_data(sales_train)\n",
    "processed_calendar = process_calendar(calendar)\n",
    "\n",
    "train_tuple = get_encode_decode_data(*train_encode_decode_boundray,\n",
    "                                     sales_train,\n",
    "                                     calendar,\n",
    "                                     processed_calendar,\n",
    "                                     categorical_feat_l,\n",
    "                                     xdaysago=xdaysago,\n",
    "                                     is_pred=False)\n",
    "\n",
    "val_tuple = get_encode_decode_data(*val_encode_decode_boundray,\n",
    "                                   sales_train,\n",
    "                                   calendar,\n",
    "                                   processed_calendar,\n",
    "                                   categorical_feat_l,\n",
    "                                   xdaysago=xdaysago,\n",
    "                                   is_pred=False)\n",
    "\n",
    "fixed_feat = get_fixed_feat(fixed_feat_l, sales_train)\n",
    "\n",
    "dataset_train = TSDataset(device, *train_tuple, fixed_feat)\n",
    "\n",
    "dataset_val = TSDataset(device, *val_tuple, fixed_feat)\n"
   ]
  },
  {
   "cell_type": "code",
   "execution_count": 4,
   "metadata": {},
   "outputs": [],
   "source": [
    "from seq2seq import *\n",
    "\n",
    "BATCH_SIZE = 64\n",
    "dataloader_train = DataLoader(dataset_train,\n",
    "                              batch_size=BATCH_SIZE,\n",
    "                              shuffle=True,\n",
    "                              num_workers=0,\n",
    "                              drop_last=True)\n",
    "\n",
    "dataloader_val = DataLoader(dataset_val,\n",
    "                            batch_size=BATCH_SIZE,\n",
    "                            shuffle=False,\n",
    "                            num_workers=0,\n",
    "                            drop_last=False)"
   ]
  },
  {
   "cell_type": "markdown",
   "metadata": {},
   "source": [
    "## WaveNet model\n",
    "\n",
    "Here is a very good serial of tutorials about WaveNet model. I will not describle how WaveNet works here. \n",
    "- https://github.com/JEddy92/TimeSeries_Seq2Seq/blob/master/notebooks/TS_Seq2Seq_Conv_Intro.ipynb\n",
    "- https://github.com/JEddy92/TimeSeries_Seq2Seq/blob/master/notebooks/TS_Seq2Seq_Conv_Full.ipynb\n",
    "https://github.com/JEddy92/TimeSeries_Seq2Seq/blob/master/notebooks/TS_Seq2Seq_Conv_Full_Exog.ipynb\n",
    "\n",
    "In our code, similar as the Seq2Seq model, we have a feature embedding layer to concatenate time series and embedded exogenous features. The diagram is shown as the figure below"
   ]
  },
  {
   "cell_type": "markdown",
   "metadata": {},
   "source": [
    "<img src=\"fig/wavenet_diagram.png\" width=\"600\" align=\"center\">"
   ]
  },
  {
   "cell_type": "code",
   "execution_count": 5,
   "metadata": {},
   "outputs": [],
   "source": [
    "from embedding import CategoricalEmbedding, FixedFeatEmbedding\n",
    "from wavenet import WaveNet, WaveNetTS\n",
    "\n",
    "NR_RESIDUAL_CHANNEL = 32\n",
    "NR_SKIP_CHANNEL = 32\n",
    "OUTPUT_DIM = 1\n",
    "NR_LAYERS = 8\n",
    "STACK_TIME = 1\n",
    "DECODE_LEN = 28\n",
    "\n",
    "categorical_feat_emb_lookup = get_cat_feat_emb_para(categorical_feat_l, processed_calendar)\n",
    "fixed_feat_emb_lookup = get_fixed_feat_emb_para(fixed_feat_l, sales_train)\n",
    "\n",
    "cat_emb_layer = CategoricalEmbedding(categorical_feat_emb_lookup)\n",
    "fixed_emb_layer = FixedFeatEmbedding(fixed_feat_emb_lookup)\n",
    "\n",
    "INPUT_DIM_ENCODE = 1 + \\\n",
    "            sum([cat[2] for cat in categorical_feat_emb_lookup]) +\\\n",
    "            sum([fixed_feat[2] for fixed_feat in fixed_feat_emb_lookup]) +\\\n",
    "            len(xdaysago)\n",
    "\n",
    "INPUT_DIM_DECODE = INPUT_DIM_ENCODE\n",
    "\n",
    "wavenet = WaveNet(n_in_channels=INPUT_DIM_DECODE, \n",
    "                 n_residual_channels=NR_RESIDUAL_CHANNEL, \n",
    "                 n_skip_channels=NR_SKIP_CHANNEL, \n",
    "                 n_out_channels=OUTPUT_DIM, \n",
    "                 nr_layers=NR_LAYERS,\n",
    "                 stack_time=STACK_TIME,\n",
    "                 decode_len=DECODE_LEN,\n",
    "                 device=device)  \n",
    "\n",
    "model = WaveNetTS(wavenet, cat_emb_layer, fixed_emb_layer, device)"
   ]
  },
  {
   "cell_type": "code",
   "execution_count": 11,
   "metadata": {
    "_cell_guid": "79c7e3d0-c299-4dcb-8224-4455121ee9b0",
    "_uuid": "d629ff2d2480ee46fbb7e2d37f6b5fab8052498a"
   },
   "outputs": [
    {
     "name": "stdout",
     "output_type": "stream",
     "text": [
      "Validation loss decreased (inf --> 1.242529).  Saving model ...\n",
      "Epoch: 00 | Time: 0m 38s\n",
      "\tTrain Loss: 1.110921\n",
      "\t Val. Loss: 1.242529\n",
      "\t Val. orig Loss: 1.970396\n",
      "\tLR: 6.894754202276398e-05\n",
      "EarlyStopping counter: 1 out of 4 in epoch 1 lr 0.000152; \n",
      "\t\tLoss 1.244763; Best score -1.242529\n",
      "Epoch: 01 | Time: 0m 37s\n",
      "\tTrain Loss: 1.109101\n",
      "\t Val. Loss: 1.244763\n",
      "\t Val. orig Loss: 1.978165\n",
      "\tLR: 0.00015229866730289066\n",
      "EarlyStopping counter: 2 out of 4 in epoch 2 lr 0.000280; \n",
      "\t\tLoss 1.252035; Best score -1.242529\n",
      "Epoch: 02 | Time: 0m 37s\n",
      "\tTrain Loss: 1.109577\n",
      "\t Val. Loss: 1.252035\n",
      "\t Val. orig Loss: 2.001004\n",
      "\tLR: 0.00028000000000000003\n",
      "EarlyStopping counter: 3 out of 4 in epoch 3 lr 0.000437; \n",
      "\t\tLoss 1.248894; Best score -1.242529\n",
      "Epoch: 03 | Time: 0m 37s\n",
      "\tTrain Loss: 1.108273\n",
      "\t Val. Loss: 1.248894\n",
      "\t Val. orig Loss: 1.990990\n",
      "\tLR: 0.00043664887471987334\n",
      "EarlyStopping counter: 4 out of 4 in epoch 4 lr 0.000603; \n",
      "\t\tLoss 1.247224; Best score -1.242529\n",
      "Epoch: 04 | Time: 0m 37s\n",
      "\tTrain Loss: 1.106864\n",
      "\t Val. Loss: 1.247224\n",
      "\t Val. orig Loss: 1.987227\n",
      "\tLR: 0.0006033511252801266\n",
      "Early stopping\n"
     ]
    }
   ],
   "source": [
    "from torch import optim\n",
    "from scheduler import OneCycleLR\n",
    "from train import train, evaluate\n",
    "from utils import RMSELoss, epoch_time, EarlyStopping\n",
    "import time\n",
    "\n",
    "LR = 0.001\n",
    "N_EPOCHS = 30\n",
    "CLIP = 2\n",
    "FORCH_TEACHING_RATE = 0 # not use force teaching in the time series forecasting?\n",
    "EARLY_STOP_PATIENT = 4\n",
    "\n",
    "optimizer = optim.Adam(model.parameters(), lr=LR)\n",
    "scheduler = OneCycleLR(optimizer, n_epochs=N_EPOCHS, n_batches=len(dataloader_train))\n",
    "criterion = RMSELoss()\n",
    "\n",
    "# initialize the early_stopping object\n",
    "early_stopping = EarlyStopping(patience=EARLY_STOP_PATIENT, verbose=True)\n",
    "\n",
    "best_valid_loss = float('inf')\n",
    "best_epoch_l = []\n",
    "train_loss_l = []\n",
    "valid_loss_l = []\n",
    "valid_loss_orig_l = []\n",
    "\n",
    "for epoch in range(N_EPOCHS):\n",
    "\n",
    "    start_time = time.time()\n",
    "\n",
    "    train_loss = train(model, dataloader_train, optimizer, scheduler, criterion, CLIP, FORCH_TEACHING_RATE)\n",
    "    valid_loss, valid_loss_orig = evaluate(model, dataloader_val, criterion)\n",
    "\n",
    "    end_time = time.time()\n",
    "\n",
    "    epoch_mins, epoch_secs = epoch_time(start_time, end_time)\n",
    "\n",
    "    if valid_loss < best_valid_loss:\n",
    "        best_epoch_l.append(epoch)\n",
    "        best_valid_loss = valid_loss\n",
    "        torch.save(model.state_dict(), f'seq2seq.pt')\n",
    "\n",
    "        \n",
    "    train_loss_l.append(train_loss)\n",
    "    valid_loss_l.append(valid_loss)\n",
    "    valid_loss_orig_l.append(valid_loss_orig)\n",
    "\n",
    "    # early_stopping needs the validation loss to check if it has decresed, \n",
    "    # and if it has, it will make a checkpoint of the current model\n",
    "    early_stopping(valid_loss, model, epoch, optimizer.param_groups[0]['lr'])\n",
    "\n",
    "    if epoch % 1 == 0:\n",
    "        print(f'Epoch: {epoch:02} | Time: {epoch_mins}m {epoch_secs}s')\n",
    "        print(f'\\tTrain Loss: {train_loss:.6f}')\n",
    "        print(f'\\t Val. Loss: {valid_loss:.6f}')\n",
    "        print(f'\\t Val. orig Loss: {valid_loss_orig:.6f}')\n",
    "        lr = optimizer.param_groups[0]['lr']\n",
    "        print(f'\\tLR: {lr}')        \n",
    "\n",
    "    if early_stopping.early_stop:\n",
    "        print(\"Early stopping\")\n",
    "        break  \n"
   ]
  },
  {
   "cell_type": "markdown",
   "metadata": {},
   "source": [
    "### Visualization of the prediction"
   ]
  },
  {
   "cell_type": "code",
   "execution_count": 12,
   "metadata": {},
   "outputs": [
    {
     "name": "stdout",
     "output_type": "stream",
     "text": [
      "pred shape (30490, 28)\n",
      "Visualize time series [7736]\n",
      "0.5935377216828036\n"
     ]
    },
    {
     "data": {
      "image/png": "[encoded data removed]",
      "text/plain": [
       "<Figure size 432x288 with 1 Axes>"
      ]
     },
     "metadata": {},
     "output_type": "display_data"
    }
   ],
   "source": [
    "from m5_dataloader import M5_LEN_DECODE, M5_LEN_ENCODE\n",
    "from utils import vis\n",
    "\n",
    "pred_norm, decode_norm = vis(dataloader_val, model, len_encode=M5_LEN_ENCODE, len_decode=M5_LEN_DECODE, device=device)\n",
    "loss = np.mean((pred_norm-decode_norm)**2)\n",
    "print(loss)"
   ]
  },
  {
   "cell_type": "code",
   "execution_count": null,
   "metadata": {},
   "outputs": [],
   "source": []
  }
 ],
 "metadata": {
  "kernelspec": {
   "display_name": "conda_pytorch_p36",
   "language": "python",
   "name": "conda_pytorch_p36"
  },
  "language_info": {
   "codemirror_mode": {
    "name": "ipython",
    "version": 3
   },
   "file_extension": ".py",
   "mimetype": "text/x-python",
   "name": "python",
   "nbconvert_exporter": "python",
   "pygments_lexer": "ipython3",
   "version": "3.6.5"
  }
 },
 "nbformat": 4,
 "nbformat_minor": 4
}
