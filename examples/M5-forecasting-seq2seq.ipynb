{
 "cells": [
  {
   "cell_type": "code",
   "execution_count": 1,
   "metadata": {},
   "outputs": [],
   "source": [
    "%load_ext autoreload\n",
    "%autoreload 2"
   ]
  },
  {
   "cell_type": "code",
   "execution_count": 2,
   "metadata": {},
   "outputs": [],
   "source": [
    "import sys\n",
    "sys.path.append('../')\n",
    "sys.path.append('../data/')"
   ]
  },
  {
   "cell_type": "markdown",
   "metadata": {},
   "source": [
    "# M5 Forecasting\n",
    "This competition (https://www.kaggle.com/c/m5-forecasting-accuracy/overview) aims to forecast Walmart sale forecast daily sales for the next 28 days. The data, covers stores in three US States (California, Texas, and Wisconsin) and includes item level, department, product categories, and store details. In addition, it has explanatory variables such as price, promotions, day of the week, and special events.\n",
    "\n",
    "This notebook uses M5 data to demonstrate the time series models:\n",
    "- seq2seq\n",
    "- wavenet"
   ]
  },
  {
   "cell_type": "markdown",
   "metadata": {},
   "source": [
    "## Create data loader"
   ]
  },
  {
   "cell_type": "markdown",
   "metadata": {},
   "source": [
    "Train and Validation Series Partioning. We need to create 4 sub-segments of the data as the figure below:\n",
    "\n",
    "1. Train encoding period\n",
    "2. Train decoding period (train targets, 28 days)\n",
    "3. Validation encoding period\n",
    "4. Validation decoding period (validation targets, 28 days)"
   ]
  },
  {
   "cell_type": "markdown",
   "metadata": {},
   "source": [
    "<img src=\"fig/web-traffic-train-validation-split.png\" width=\"700\" align=\"left\">"
   ]
  },
  {
   "cell_type": "markdown",
   "metadata": {},
   "source": [
    "### Features\n",
    "We have 4 kinds of features\n",
    "- time series: \n",
    "    - shape: [nr_ts, len_encode, 1] and [nr_ts, len_decode, 1]\n",
    "    - current only support 1 dimension. For multivariance time series forecasting, the code in seq2seq.py need to change.\n",
    "- numerical features: \n",
    "    - shape: [nr_ts, len_encode, num_dim] and [nr_ts, len_decode, num_dim]\n",
    "    - numerical exogenous variable, for example, the daily temprature. In M5 data, we use historical sales (1 year and 3 months ago)\n",
    "- categorical features\n",
    "    - shape: [nr_ts, len_encode, cat_dim] and [nr_ts, len_decode, cat_dim]\n",
    "    - categorical exogenous variable. In M5 data, they are week number, event name, etc\n",
    "- fixed feature\n",
    "    - shape: [nr_ts, fixed_feat_dim]\n",
    "    - fixed features value does not change for the given time series, for example, the store id and state id"
   ]
  },
  {
   "cell_type": "code",
   "execution_count": 3,
   "metadata": {},
   "outputs": [
    {
     "name": "stderr",
     "output_type": "stream",
     "text": [
      "INFO:root:Reading files...\n"
     ]
    },
    {
     "name": "stdout",
     "output_type": "stream",
     "text": [
      "Calendar shape: (1969, 14)\n",
      "Sell prices shape: (6841121, 4)\n",
      "Sales train shape: (30490, 1919)\n",
      "Submission shape: (60980, 29)\n",
      "ts_encode_norm shape torch.Size([30490, 365, 1])\n",
      " ts_decode_norm shape torch.Size([30490, 28, 1])\n",
      " ts_decode_true shape torch.Size([30490, 28, 1])\n",
      " ts_xdaysago_encode shape torch.Size([30490, 365, 2])\n",
      " ts_xdaysago_decode shape torch.Size([30490, 28, 2])\n",
      " cat_feat_encode shape torch.Size([30490, 365, 10])\n",
      " cat_feat_decode shape torch.Size([30490, 28, 10])\n",
      " fixed_feat_encode shape torch.Size([30490, 5])\n",
      " mean_x shape torch.Size([30490, 1, 1])\n",
      " std_x shape torch.Size([30490, 1, 1])\n",
      "\n",
      "ts_encode_norm shape torch.Size([30490, 365, 1])\n",
      " ts_decode_norm shape torch.Size([30490, 28, 1])\n",
      " ts_decode_true shape torch.Size([30490, 28, 1])\n",
      " ts_xdaysago_encode shape torch.Size([30490, 365, 2])\n",
      " ts_xdaysago_decode shape torch.Size([30490, 28, 2])\n",
      " cat_feat_encode shape torch.Size([30490, 365, 10])\n",
      " cat_feat_decode shape torch.Size([30490, 28, 10])\n",
      " fixed_feat_encode shape torch.Size([30490, 5])\n",
      " mean_x shape torch.Size([30490, 1, 1])\n",
      " std_x shape torch.Size([30490, 1, 1])\n",
      "\n"
     ]
    }
   ],
   "source": [
    "from m5_dataloader import *\n",
    "import torch\n",
    "from torch.utils.data import DataLoader\n",
    "\n",
    "input_dir = '../data/M5'\n",
    "\n",
    "train_encode_decode_boundray = ('2015-03-01', '2016-02-28', '2016-02-29', '2016-03-27')\n",
    "val_encode_decode_boundray = ('2015-03-29', '2016-03-27', '2016-03-28', '2016-04-24')\n",
    "\n",
    "categorical_feat_l = ['week_number',\n",
    "                    'wday',\n",
    "                    'month',\n",
    "                    'event_name_1',\n",
    "                    'event_type_1',\n",
    "                    'event_name_2',\n",
    "                    'event_type_2',\n",
    "                    'snap_CA',\n",
    "                    'snap_TX',\n",
    "                    'snap_WI']\n",
    "\n",
    "\n",
    "fixed_feat_l=['item_id',\n",
    "            'dept_id',\n",
    "            'cat_id',\n",
    "            'store_id',\n",
    "            'state_id']\n",
    "\n",
    "xdaysago = [365, 91]\n",
    "\n",
    "device = torch.device(\"cuda\" if torch.cuda.is_available() else \"cpu\")\n",
    "\n",
    "calendar, sell_prices, sales_train, submission = read_data(input_dir)\n",
    "sales_train = process_sale_data(sales_train)\n",
    "processed_calendar = process_calendar(calendar)\n",
    "\n",
    "train_tuple = get_encode_decode_data(*train_encode_decode_boundray,\n",
    "                                     sales_train,\n",
    "                                     calendar,\n",
    "                                     processed_calendar,\n",
    "                                     categorical_feat_l,\n",
    "                                     xdaysago=xdaysago,\n",
    "                                     is_pred=False)\n",
    "\n",
    "val_tuple = get_encode_decode_data(*val_encode_decode_boundray,\n",
    "                                   sales_train,\n",
    "                                   calendar,\n",
    "                                   processed_calendar,\n",
    "                                   categorical_feat_l,\n",
    "                                   xdaysago=xdaysago,\n",
    "                                   is_pred=False)\n",
    "\n",
    "fixed_feat = get_fixed_feat(fixed_feat_l, sales_train)\n",
    "\n",
    "dataset_train = TSDataset(device, *train_tuple, fixed_feat)\n",
    "\n",
    "dataset_val = TSDataset(device, *val_tuple, fixed_feat)\n"
   ]
  },
  {
   "cell_type": "code",
   "execution_count": 4,
   "metadata": {},
   "outputs": [],
   "source": [
    "from seq2seq import *\n",
    "\n",
    "BATCH_SIZE = 64\n",
    "dataloader_train = DataLoader(dataset_train,\n",
    "                              batch_size=BATCH_SIZE,\n",
    "                              shuffle=True,\n",
    "                              num_workers=0,\n",
    "                              drop_last=True)\n",
    "\n",
    "dataloader_val = DataLoader(dataset_val,\n",
    "                            batch_size=BATCH_SIZE,\n",
    "                            shuffle=False,\n",
    "                            num_workers=0,\n",
    "                            drop_last=False)"
   ]
  },
  {
   "cell_type": "markdown",
   "metadata": {},
   "source": [
    "## Seq2Seq model\n",
    "The model architecture is as the figure below.\n",
    "- Feature embedding blocks use 1D convolutional layer and embedding layer to preprocess time series, categorical and fixed features, then concatenate them as one tensor as the input of encoder\n",
    "- Encoder: use GRU block to learn context vector\n",
    "- Context enhancement: a linear + tanh transformation layer to enhance the context vector\n",
    "- Decoder: use GRU block to make time series forecasting"
   ]
  },
  {
   "cell_type": "markdown",
   "metadata": {},
   "source": [
    "<img src=\"fig/seq2seq_diagram.png\" width=\"1200\" align=\"left\">"
   ]
  },
  {
   "cell_type": "markdown",
   "metadata": {},
   "source": [
    "### Tensor dimension\n",
    "the figure below show the input and output size of tensors of each layer"
   ]
  },
  {
   "cell_type": "markdown",
   "metadata": {},
   "source": [
    "<img src=\"fig/seq2seq_dimensions.png\" width=\"1200\" align=\"left\">"
   ]
  },
  {
   "cell_type": "code",
   "execution_count": 5,
   "metadata": {},
   "outputs": [],
   "source": [
    "OUTPUT_DIM = 1\n",
    "CONV1D_OUTPUT_DIM = 4\n",
    "CONV1D_KERNAL_SIZE = 5\n",
    "HID_DIM_ENCODE = 128\n",
    "HID_DIM_DECODE = 128\n",
    "N_LAYERS_RNN = 2\n",
    "DROPOUT_RNN = 0.5\n",
    "FC1_OUT_DIM = 64\n",
    "FC2_OUT_DIM = 16\n",
    "\n",
    "categorical_feat_emb_lookup = get_cat_feat_emb_para(categorical_feat_l, processed_calendar)\n",
    "fixed_feat_emb_lookup = get_fixed_feat_emb_para(fixed_feat_l, sales_train)\n",
    "\n",
    "model = Seq2Seq(\n",
    "    device,\n",
    "    HID_DIM_ENCODE,\n",
    "    HID_DIM_DECODE,\n",
    "    N_LAYERS_RNN, \n",
    "    DROPOUT_RNN,\n",
    "    categorical_feat_emb_lookup,\n",
    "    fixed_feat_emb_lookup,\n",
    "    xdaysago,\n",
    "    FC1_OUT_DIM,\n",
    "    FC2_OUT_DIM,\n",
    "    CONV1D_OUTPUT_DIM,\n",
    "    CONV1D_KERNAL_SIZE\n",
    ")"
   ]
  },
  {
   "cell_type": "code",
   "execution_count": 7,
   "metadata": {
    "_cell_guid": "79c7e3d0-c299-4dcb-8224-4455121ee9b0",
    "_uuid": "d629ff2d2480ee46fbb7e2d37f6b5fab8052498a"
   },
   "outputs": [
    {
     "name": "stdout",
     "output_type": "stream",
     "text": [
      "Validation loss decreased (inf --> 1.275369).  Saving model ...\n",
      "Epoch: 00 | Time: 2m 6s\n",
      "\tTrain Loss: 1.154237\n",
      "\t Val. Loss: 1.275369\n",
      "\t Val. orig Loss: 2.103553\n",
      "\tLR: 0.00010430780618346935\n",
      "Validation loss decreased (1.275369 --> 1.245280).  Saving model ...\n",
      "Epoch: 01 | Time: 2m 5s\n",
      "\tTrain Loss: 1.148806\n",
      "\t Val. Loss: 1.245280\n",
      "\t Val. orig Loss: 1.966394\n",
      "\tLR: 0.00028000000000000003\n",
      "EarlyStopping counter: 1 out of 10 in epoch 2 lr 0.000520; \n",
      "\t\tLoss 1.255327; Best score -1.245280\n",
      "Epoch: 02 | Time: 2m 6s\n",
      "\tTrain Loss: 1.145435\n",
      "\t Val. Loss: 1.255327\n",
      "\t Val. orig Loss: 2.011678\n",
      "\tLR: 0.0005200000000000001\n",
      "EarlyStopping counter: 2 out of 10 in epoch 3 lr 0.000760; \n",
      "\t\tLoss 1.258830; Best score -1.245280\n",
      "Epoch: 03 | Time: 2m 6s\n",
      "\tTrain Loss: 1.141714\n",
      "\t Val. Loss: 1.258830\n",
      "\t Val. orig Loss: 1.994936\n",
      "\tLR: 0.0007599999999999999\n",
      "Validation loss decreased (1.245280 --> 1.233617).  Saving model ...\n",
      "Epoch: 04 | Time: 2m 5s\n",
      "\tTrain Loss: 1.137377\n",
      "\t Val. Loss: 1.233617\n",
      "\t Val. orig Loss: 1.907988\n",
      "\tLR: 0.0009356921938165304\n",
      "EarlyStopping counter: 1 out of 10 in epoch 5 lr 0.001000; \n",
      "\t\tLoss 1.266515; Best score -1.233617\n",
      "Epoch: 05 | Time: 2m 6s\n",
      "\tTrain Loss: 1.136591\n",
      "\t Val. Loss: 1.266515\n",
      "\t Val. orig Loss: 2.008532\n",
      "\tLR: 0.001\n",
      "EarlyStopping counter: 2 out of 10 in epoch 6 lr 0.000988; \n",
      "\t\tLoss 1.295003; Best score -1.233617\n",
      "Epoch: 06 | Time: 2m 6s\n",
      "\tTrain Loss: 1.132953\n",
      "\t Val. Loss: 1.295003\n",
      "\t Val. orig Loss: 2.018099\n",
      "\tLR: 0.0009879689936988898\n",
      "EarlyStopping counter: 3 out of 10 in epoch 7 lr 0.000952; \n",
      "\t\tLoss 1.262043; Best score -1.233617\n",
      "Epoch: 07 | Time: 2m 5s\n",
      "\tTrain Loss: 1.130571\n",
      "\t Val. Loss: 1.262043\n",
      "\t Val. orig Loss: 1.976450\n",
      "\tLR: 0.0009524790794314644\n",
      "EarlyStopping counter: 4 out of 10 in epoch 8 lr 0.000895; \n",
      "\t\tLoss 1.235647; Best score -1.233617\n",
      "Epoch: 08 | Time: 2m 6s\n",
      "\tTrain Loss: 1.128762\n",
      "\t Val. Loss: 1.235647\n",
      "\t Val. orig Loss: 1.911421\n",
      "\tLR: 0.0008953093379567963\n",
      "EarlyStopping counter: 5 out of 10 in epoch 9 lr 0.000819; \n",
      "\t\tLoss 1.261105; Best score -1.233617\n",
      "Epoch: 09 | Time: 2m 5s\n",
      "\tTrain Loss: 1.125985\n",
      "\t Val. Loss: 1.261105\n",
      "\t Val. orig Loss: 1.975319\n",
      "\tLR: 0.0008193256422745289\n",
      "EarlyStopping counter: 6 out of 10 in epoch 10 lr 0.000728; \n",
      "\t\tLoss 1.277996; Best score -1.233617\n",
      "Epoch: 10 | Time: 2m 5s\n",
      "\tTrain Loss: 1.122046\n",
      "\t Val. Loss: 1.277996\n",
      "\t Val. orig Loss: 2.014548\n",
      "\tLR: 0.0007283369937243919\n",
      "EarlyStopping counter: 7 out of 10 in epoch 11 lr 0.000627; \n",
      "\t\tLoss 1.259121; Best score -1.233617\n",
      "Epoch: 11 | Time: 2m 6s\n",
      "\tTrain Loss: 1.120901\n",
      "\t Val. Loss: 1.259121\n",
      "\t Val. orig Loss: 1.970693\n",
      "\tLR: 0.0006269045798232028\n",
      "EarlyStopping counter: 8 out of 10 in epoch 12 lr 0.000520; \n",
      "\t\tLoss 1.258617; Best score -1.233617\n",
      "Epoch: 12 | Time: 2m 5s\n",
      "\tTrain Loss: 1.116628\n",
      "\t Val. Loss: 1.258617\n",
      "\t Val. orig Loss: 1.966540\n",
      "\tLR: 0.0005201131256158862\n",
      "EarlyStopping counter: 9 out of 10 in epoch 13 lr 0.000413; \n",
      "\t\tLoss 1.266291; Best score -1.233617\n",
      "Epoch: 13 | Time: 2m 4s\n",
      "\tTrain Loss: 1.112250\n",
      "\t Val. Loss: 1.266291\n",
      "\t Val. orig Loss: 1.984983\n",
      "\tLR: 0.0004133160005127468\n",
      "EarlyStopping counter: 10 out of 10 in epoch 14 lr 0.000312; \n",
      "\t\tLoss 1.262795; Best score -1.233617\n",
      "Epoch: 14 | Time: 2m 4s\n",
      "\tTrain Loss: 1.110629\n",
      "\t Val. Loss: 1.262795\n",
      "\t Val. orig Loss: 1.979835\n",
      "\tLR: 0.000311866858201519\n",
      "Early stopping\n"
     ]
    }
   ],
   "source": [
    "from torch import optim\n",
    "from scheduler import OneCycleLR\n",
    "from train import train, evaluate\n",
    "from utils import RMSELoss, epoch_time, EarlyStopping\n",
    "import time\n",
    "\n",
    "LR = 0.001\n",
    "N_EPOCHS = 20\n",
    "CLIP = 2\n",
    "FORCH_TEACHING_RATE = 0\n",
    "EARLY_STOP_PATIENT = 10\n",
    "\n",
    "optimizer = optim.Adam(model.parameters(), lr=LR)\n",
    "scheduler = OneCycleLR(optimizer, n_epochs=N_EPOCHS, n_batches=len(dataloader_train))\n",
    "criterion = RMSELoss()\n",
    "\n",
    "# initialize the early_stopping object\n",
    "early_stopping = EarlyStopping(patience=EARLY_STOP_PATIENT, verbose=True)\n",
    "\n",
    "best_valid_loss = float('inf')\n",
    "best_epoch_l = []\n",
    "train_loss_l = []\n",
    "valid_loss_l = []\n",
    "valid_loss_orig_l = []\n",
    "\n",
    "for epoch in range(N_EPOCHS):\n",
    "\n",
    "    start_time = time.time()\n",
    "\n",
    "    train_loss = train(model, dataloader_train, optimizer, scheduler, criterion, CLIP, FORCH_TEACHING_RATE)\n",
    "    valid_loss, valid_loss_orig = evaluate(model, dataloader_val, criterion)\n",
    "\n",
    "    end_time = time.time()\n",
    "\n",
    "    epoch_mins, epoch_secs = epoch_time(start_time, end_time)\n",
    "\n",
    "    if valid_loss < best_valid_loss:\n",
    "        best_epoch_l.append(epoch)\n",
    "        best_valid_loss = valid_loss\n",
    "        torch.save(model.state_dict(), f'seq2seq.pt')\n",
    "\n",
    "        \n",
    "    train_loss_l.append(train_loss)\n",
    "    valid_loss_l.append(valid_loss)\n",
    "    valid_loss_orig_l.append(valid_loss_orig)\n",
    "\n",
    "    # early_stopping needs the validation loss to check if it has decresed, \n",
    "    # and if it has, it will make a checkpoint of the current model\n",
    "    early_stopping(valid_loss, model, epoch, optimizer.param_groups[0]['lr'])\n",
    "\n",
    "    if epoch % 1 == 0:\n",
    "        print(f'Epoch: {epoch:02} | Time: {epoch_mins}m {epoch_secs}s')\n",
    "        print(f'\\tTrain Loss: {train_loss:.6f}')\n",
    "        print(f'\\t Val. Loss: {valid_loss:.6f}')\n",
    "        print(f'\\t Val. orig Loss: {valid_loss_orig:.6f}')\n",
    "        lr = optimizer.param_groups[0]['lr']\n",
    "        print(f'\\tLR: {lr}')        \n",
    "\n",
    "    if early_stopping.early_stop:\n",
    "        print(\"Early stopping\")\n",
    "        break  \n"
   ]
  },
  {
   "cell_type": "markdown",
   "metadata": {},
   "source": [
    "### Visualization of the prediction"
   ]
  },
  {
   "cell_type": "code",
   "execution_count": 11,
   "metadata": {},
   "outputs": [
    {
     "name": "stdout",
     "output_type": "stream",
     "text": [
      "pred shape (30490, 28)\n",
      "Visualize time series [19999]\n",
      "0.8325217563277302\n"
     ]
    },
    {
     "data": {
      "image/png": "[encoded data removed]",
      "text/plain": [
       "<Figure size 432x288 with 1 Axes>"
      ]
     },
     "metadata": {},
     "output_type": "display_data"
    }
   ],
   "source": [
    "from m5_dataloader import M5_LEN_DECODE, M5_LEN_ENCODE\n",
    "from utils import vis\n",
    "\n",
    "pred_norm, decode_norm = vis(dataloader_val, model, len_encode=M5_LEN_ENCODE, len_decode=M5_LEN_DECODE, device=device)\n",
    "loss = np.mean((pred_norm-decode_norm)**2)\n",
    "print(loss)"
   ]
  }
 ],
 "metadata": {
  "kernelspec": {
   "display_name": "conda_pytorch_p36",
   "language": "python",
   "name": "conda_pytorch_p36"
  },
  "language_info": {
   "codemirror_mode": {
    "name": "ipython",
    "version": 3
   },
   "file_extension": ".py",
   "mimetype": "text/x-python",
   "name": "python",
   "nbconvert_exporter": "python",
   "pygments_lexer": "ipython3",
   "version": "3.6.5"
  }
 },
 "nbformat": 4,
 "nbformat_minor": 4
}
